{
 "cells": [
  {
   "cell_type": "markdown",
   "metadata": {},
   "source": [
    "# MNIST Visualization Example\n",
    "\n",
    "Real-time visualization of MNIST training on a CNN, using TensorFlow and [TensorDebugger](https://github.com/ericjang/tdb)\n",
    "\n",
    "The visualizations in this notebook won't show up on http://nbviewer.ipython.org. To view the widgets and interact with them, you will need to download this notebook and run it with a Jupyter Notebook server."
   ]
  },
  {
   "cell_type": "markdown",
   "metadata": {},
   "source": [
    "## Step 1: Load TDB Notebook Extension"
   ]
  },
  {
   "cell_type": "code",
   "execution_count": 1,
   "metadata": {
    "collapsed": false
   },
   "outputs": [
    {
     "data": {
      "application/javascript": [
       "Jupyter.utils.load_extensions('tdb_ext/main')"
      ],
      "text/plain": [
       "<IPython.core.display.Javascript object>"
      ]
     },
     "metadata": {},
     "output_type": "display_data"
    }
   ],
   "source": [
    "%%javascript\n",
    "Jupyter.utils.load_extensions('tdb_ext/main')"
   ]
  },
  {
   "cell_type": "code",
   "execution_count": 2,
   "metadata": {
    "collapsed": false
   },
   "outputs": [],
   "source": [
    "#import sys\n",
    "#sys.path.append('/home/evjang/thesis/tensor_debugger')\n",
    "import tdb\n",
    "from tdb.examples import mnist, viz\n",
    "import matplotlib.pyplot as plt\n",
    "import tensorflow as tf\n",
    "import urllib"
   ]
  },
  {
   "cell_type": "markdown",
   "metadata": {},
   "source": [
    "## Step 2: Build TensorFlow Model"
   ]
  },
  {
   "cell_type": "code",
   "execution_count": 3,
   "metadata": {
    "collapsed": false
   },
   "outputs": [
    {
     "name": "stdout",
     "output_type": "stream",
     "text": [
      "WARNING:tensorflow:From /usr/local/lib/python3.5/dist-packages/tdb/examples/mnist.py:90 in _activation_summary.: histogram_summary (from tensorflow.python.ops.logging_ops) is deprecated and will be removed after 2016-11-30.\n",
      "Instructions for updating:\n",
      "Please switch to tf.summary.histogram. Note that tf.summary.histogram uses the node name instead of the tag. This means that TensorFlow will automatically de-duplicate summary names based on their scope.\n",
      "WARNING:tensorflow:From /usr/local/lib/python3.5/dist-packages/tdb/examples/mnist.py:91 in _activation_summary.: scalar_summary (from tensorflow.python.ops.logging_ops) is deprecated and will be removed after 2016-11-30.\n",
      "Instructions for updating:\n",
      "Please switch to tf.summary.scalar. Note that tf.summary.scalar uses the node name instead of the tag. This means that TensorFlow will automatically de-duplicate summary names based on the scope they are created in. Also, passing a tensor or list of tags to a scalar summary op is no longer supported.\n",
      "WARNING:tensorflow:From /usr/local/lib/python3.5/dist-packages/tdb/examples/mnist.py:90 in _activation_summary.: histogram_summary (from tensorflow.python.ops.logging_ops) is deprecated and will be removed after 2016-11-30.\n",
      "Instructions for updating:\n",
      "Please switch to tf.summary.histogram. Note that tf.summary.histogram uses the node name instead of the tag. This means that TensorFlow will automatically de-duplicate summary names based on their scope.\n",
      "WARNING:tensorflow:From /usr/local/lib/python3.5/dist-packages/tdb/examples/mnist.py:91 in _activation_summary.: scalar_summary (from tensorflow.python.ops.logging_ops) is deprecated and will be removed after 2016-11-30.\n",
      "Instructions for updating:\n",
      "Please switch to tf.summary.scalar. Note that tf.summary.scalar uses the node name instead of the tag. This means that TensorFlow will automatically de-duplicate summary names based on the scope they are created in. Also, passing a tensor or list of tags to a scalar summary op is no longer supported.\n",
      "WARNING:tensorflow:From /usr/local/lib/python3.5/dist-packages/tdb/examples/mnist.py:151 in build_model.: scalar_summary (from tensorflow.python.ops.logging_ops) is deprecated and will be removed after 2016-11-30.\n",
      "Instructions for updating:\n",
      "Please switch to tf.summary.scalar. Note that tf.summary.scalar uses the node name instead of the tag. This means that TensorFlow will automatically de-duplicate summary names based on the scope they are created in. Also, passing a tensor or list of tags to a scalar summary op is no longer supported.\n",
      "WARNING:tensorflow:From /usr/local/lib/python3.5/dist-packages/tdb/examples/mnist.py:175 in build_model.: merge_all_summaries (from tensorflow.python.ops.logging_ops) is deprecated and will be removed after 2016-11-30.\n",
      "Instructions for updating:\n",
      "Please switch to tf.summary.merge_all.\n",
      "WARNING:tensorflow:From /usr/local/lib/python3.5/dist-packages/tensorflow/python/ops/logging_ops.py:264 in merge_all_summaries.: merge_summary (from tensorflow.python.ops.logging_ops) is deprecated and will be removed after 2016-11-30.\n",
      "Instructions for updating:\n",
      "Please switch to tf.summary.merge.\n"
     ]
    }
   ],
   "source": [
    "(train_data_node,\n",
    "    train_labels_node,\n",
    "    validation_data_node,\n",
    "    test_data_node,\n",
    "    # predictions\n",
    "    train_prediction,\n",
    "    validation_prediction,\n",
    "    test_prediction,\n",
    "    # weights\n",
    "    conv1_weights,\n",
    "    conv2_weights,\n",
    "    fc1_weights,\n",
    "    fc2_weights,\n",
    "    # training\n",
    "    optimizer,\n",
    "    loss,\n",
    "    learning_rate,\n",
    "    summaries) = mnist.build_model()"
   ]
  },
  {
   "cell_type": "markdown",
   "metadata": {},
   "source": [
    "## Step 3: Attach Plotting Ops"
   ]
  },
  {
   "cell_type": "code",
   "execution_count": 4,
   "metadata": {
    "collapsed": true
   },
   "outputs": [],
   "source": [
    "def viz_activations(ctx, m):\n",
    "    plt.matshow(m.T,cmap=plt.cm.gray)\n",
    "    plt.title(\"LeNet Predictions\")\n",
    "    plt.xlabel(\"Batch\")\n",
    "    plt.ylabel(\"Digit Activation\")"
   ]
  },
  {
   "cell_type": "code",
   "execution_count": 5,
   "metadata": {
    "collapsed": false
   },
   "outputs": [],
   "source": [
    "# plotting a user-defined function 'viz_activations'\n",
    "p0=tdb.plot_op(viz_activations,inputs=[train_prediction])\n",
    "# weight variables are of type tf.Variable, so we need to find the corresponding tf.Tensor instead\n",
    "g=tf.get_default_graph()\n",
    "p1=tdb.plot_op(viz.viz_conv_weights,inputs=[g.as_graph_element(conv1_weights)])\n",
    "p2=tdb.plot_op(viz.viz_conv_weights,inputs=[g.as_graph_element(conv2_weights)])\n",
    "p3=tdb.plot_op(viz.viz_fc_weights,inputs=[g.as_graph_element(fc1_weights)])\n",
    "p4=tdb.plot_op(viz.viz_fc_weights,inputs=[g.as_graph_element(fc2_weights)])\n",
    "p2=tdb.plot_op(viz.viz_conv_hist,inputs=[g.as_graph_element(conv1_weights)])\n",
    "ploss=tdb.plot_op(viz.watch_loss,inputs=[loss])"
   ]
  },
  {
   "cell_type": "markdown",
   "metadata": {},
   "source": [
    "## Step 4: Download the MNIST dataset\n"
   ]
  },
  {
   "cell_type": "code",
   "execution_count": 6,
   "metadata": {
    "collapsed": false
   },
   "outputs": [
    {
     "name": "stdout",
     "output_type": "stream",
     "text": [
      "train-images-idx3-ubyte.gz\n",
      "train-labels-idx1-ubyte.gz\n",
      "t10k-images-idx3-ubyte.gz\n",
      "t10k-labels-idx1-ubyte.gz\n"
     ]
    }
   ],
   "source": [
    "import os\n",
    "base_url='http://yann.lecun.com/exdb/mnist/'\n",
    "files=['train-images-idx3-ubyte.gz',\n",
    " 'train-labels-idx1-ubyte.gz',\n",
    " 't10k-images-idx3-ubyte.gz',\n",
    " 't10k-labels-idx1-ubyte.gz']\n",
    "download_dir='/tmp/'\n",
    "for f in files:\n",
    "    print(f)\n",
    "    if not os.path.exists(download_dir+f):\n",
    "        urllib.request.urlretrieve(base_url+f, download_dir+f)"
   ]
  },
  {
   "cell_type": "markdown",
   "metadata": {},
   "source": [
    "## Step 5: Debug + Visualize!\n",
    "\n",
    "Upon evaluating plot nodes p1,p2,p3,p4,ploss, plots will be generated in the Plot view on the right."
   ]
  },
  {
   "cell_type": "code",
   "execution_count": 7,
   "metadata": {
    "collapsed": false
   },
   "outputs": [
    {
     "name": "stdout",
     "output_type": "stream",
     "text": [
      "Extracting /tmp/train-images-idx3-ubyte.gz\n",
      "Extracting /tmp/train-labels-idx1-ubyte.gz\n",
      "Extracting /tmp/t10k-images-idx3-ubyte.gz\n",
      "Extracting /tmp/t10k-labels-idx1-ubyte.gz\n"
     ]
    }
   ],
   "source": [
    "# return the TF nodes corresponding to graph input placeholders\n",
    "(train_data, \n",
    " train_labels, \n",
    " validation_data, \n",
    " validation_labels, \n",
    " test_data, \n",
    " test_labels) = mnist.get_data(download_dir)"
   ]
  },
  {
   "cell_type": "code",
   "execution_count": 8,
   "metadata": {
    "collapsed": false
   },
   "outputs": [
    {
     "name": "stdout",
     "output_type": "stream",
     "text": [
      "WARNING:tensorflow:From <ipython-input-8-356b8023182e>:3 in <module>.: initialize_all_variables (from tensorflow.python.ops.variables) is deprecated and will be removed after 2017-03-02.\n",
      "Instructions for updating:\n",
      "Use `tf.global_variables_initializer` instead.\n"
     ]
    }
   ],
   "source": [
    "# start the TensorFlow session that will be used to evaluate the graph\n",
    "s=tf.InteractiveSession()\n",
    "tf.initialize_all_variables().run()"
   ]
  },
  {
   "cell_type": "code",
   "execution_count": 9,
   "metadata": {
    "collapsed": false
   },
   "outputs": [
    {
     "name": "stdout",
     "output_type": "stream",
     "text": [
      "loss: 29.668476\n",
      "loss: 15.983393\n",
      "loss: 11.247228\n",
      "loss: 10.034346\n",
      "loss: 8.055100\n",
      "loss: 9.555091\n",
      "loss: 7.325435\n",
      "loss: 8.727551\n",
      "loss: 7.670499\n",
      "loss: 8.474797\n",
      "loss: 6.090981\n",
      "loss: 5.815626\n",
      "loss: 6.896512\n",
      "loss: 7.082019\n",
      "loss: 7.502631\n",
      "loss: 8.401616\n",
      "loss: 5.446825\n",
      "loss: 6.673577\n",
      "loss: 4.744513\n",
      "loss: 7.339320\n",
      "loss: 6.432270\n",
      "loss: 7.579834\n",
      "loss: 5.667775\n",
      "loss: 5.109058\n",
      "loss: 6.962025\n",
      "loss: 7.799968\n",
      "loss: 7.758461\n",
      "loss: 6.497017\n",
      "loss: 10.070888\n",
      "loss: 5.862369\n",
      "loss: 5.851891\n",
      "loss: 4.593834\n",
      "loss: 5.052624\n",
      "loss: 9.769743\n",
      "loss: 5.933170\n",
      "loss: 5.290902\n",
      "loss: 6.691075\n",
      "loss: 5.159943\n",
      "loss: 6.842520\n",
      "loss: 5.522066\n",
      "loss: 7.594827\n",
      "loss: 7.737342\n",
      "loss: 7.678889\n",
      "loss: 7.159802\n",
      "loss: 5.691202\n",
      "loss: 8.257366\n",
      "loss: 7.393768\n",
      "loss: 7.406785\n",
      "loss: 7.161901\n",
      "loss: 3.925813\n",
      "loss: 6.196887\n",
      "loss: 6.533015\n",
      "loss: 9.045643\n",
      "loss: 6.280092\n",
      "loss: 6.185399\n",
      "loss: 6.508056\n",
      "loss: 4.901861\n",
      "loss: 8.836107\n",
      "loss: 6.809188\n",
      "loss: 6.783395\n",
      "loss: 5.383024\n",
      "loss: 7.082047\n",
      "loss: 6.256349\n",
      "loss: 5.897263\n",
      "loss: 7.181945\n",
      "loss: 5.823594\n",
      "loss: 6.317982\n",
      "loss: 5.233438\n",
      "loss: 4.933548\n",
      "loss: 6.755095\n",
      "loss: 4.932736\n",
      "loss: 5.493409\n",
      "loss: 6.733269\n",
      "loss: 6.982549\n",
      "loss: 6.015798\n",
      "loss: 5.222569\n",
      "loss: 5.622890\n",
      "loss: 6.777804\n",
      "loss: 5.812727\n"
     ]
    }
   ],
   "source": [
    "BATCH_SIZE = 64\n",
    "NUM_EPOCHS = 5\n",
    "TRAIN_SIZE=10000\n",
    "\n",
    "for step in range(NUM_EPOCHS * TRAIN_SIZE // BATCH_SIZE):\n",
    "    offset = (step * BATCH_SIZE) % (TRAIN_SIZE - BATCH_SIZE)\n",
    "    batch_data = train_data[offset:(offset + BATCH_SIZE), :, :, :]\n",
    "    batch_labels = train_labels[offset:(offset + BATCH_SIZE)]\n",
    "    feed_dict = {\n",
    "        train_data_node: batch_data,\n",
    "        train_labels_node: batch_labels\n",
    "    }\n",
    "    # run training node and visualization node\n",
    "    status,result=tdb.debug([optimizer,p0], feed_dict=feed_dict, session=s)\n",
    "    if step % 10 == 0:  \n",
    "        status,result=tdb.debug([loss,p1,p2,p3,p4,ploss], feed_dict=feed_dict, breakpoints=None, break_immediately=False, session=s)\n",
    "        print('loss: %f' % (result[0]))"
   ]
  }
 ],
 "metadata": {
  "kernelspec": {
   "display_name": "Python 3",
   "language": "python",
   "name": "python3"
  },
  "language_info": {
   "codemirror_mode": {
    "name": "ipython",
    "version": 3
   },
   "file_extension": ".py",
   "mimetype": "text/x-python",
   "name": "python",
   "nbconvert_exporter": "python",
   "pygments_lexer": "ipython3",
   "version": "3.5.2+"
  }
 },
 "nbformat": 4,
 "nbformat_minor": 0
}
